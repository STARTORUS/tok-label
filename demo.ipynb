{
 "cells": [
  {
   "cell_type": "code",
   "execution_count": 1,
   "metadata": {},
   "outputs": [],
   "source": [
    "import pandas as pd\n",
    "import toklabel\n",
    "import json\n",
    "import numpy as np\n",
    "from label_studio_sdk import LabelStudio"
   ]
  },
  {
   "cell_type": "code",
   "execution_count": 3,
   "metadata": {},
   "outputs": [
    {
     "name": "stdout",
     "output_type": "stream",
     "text": [
      "your api key\n"
     ]
    }
   ],
   "source": [
    "API_KEY = 'your api key'\n",
    "ls: LabelStudio = toklabel.connect_Label_Studio(API_key=API_KEY)"
   ]
  },
  {
   "cell_type": "code",
   "execution_count": null,
   "metadata": {},
   "outputs": [],
   "source": [
    "# 创建ProjectBuilder实例\n",
    "pb = toklabel.ProjectBuilder('project-config.yaml')\n",
    "# 导出数据，生成url，存入Redis数据库\n",
    "urls = pb.prepare_data()\n",
    "# 创建项目\n",
    "proj = pb.create_project(ls)\n",
    "# 向Label Studio创建并同步Redis存储\n",
    "storage = pb.create_storage(ls)\n",
    "print(storage)\n"
   ]
  },
  {
   "cell_type": "code",
   "execution_count": null,
   "metadata": {},
   "outputs": [
    {
     "name": "stdout",
     "output_type": "stream",
     "text": [
      "XML配置:\n",
      "<View>\n",
      "  <TimeSeriesLabels name=\"label1\" toName=\"ts\">\n",
      "    <Label value=\"effective\" background=\"#FF6347\"/>\n",
      "  </TimeSeriesLabels>\n",
      "  <TimeSeriesLabels name=\"label2\" toName=\"ts\">\n",
      "    <Label value=\"stable\" background=\"#FFD700\"/>\n",
      "    <Label value=\"unstable\" background=\"#ADFF2F\"/>\n",
      "    <Label value=\"disruptive\" background=\"#87CEFA\"/>\n",
      "  </TimeSeriesLabels>\n",
      "  <TimeSeries name=\"ts\" valueType=\"url\" value=\"$csv\" sep=\",\" timeColumn=\"time\" timeDisplayFormat=\",.3\" fixedScale=\"true\" overviewWidth=\"50%\">\n",
      "    <Channel column=\"ammeter_CS1\" displayFormat=\",.3\" legend=\"ammeter_CS1\" strokeColor=\"#1f77b4\"/>\n",
      "    <Channel column=\"ammeter_CS2\" displayFormat=\",.3\" legend=\"ammeter_CS2\" strokeColor=\"#1f77b4\"/>\n",
      "    <Channel column=\"ammeter_PFP1\" displayFormat=\",.3\" legend=\"ammeter_PFP1\" strokeColor=\"#1f77b4\"/>\n",
      "    <Channel column=\"flux_loop_1\" displayFormat=\",.3\" legend=\"flux_loop_1\" strokeColor=\"#ff7f0e\"/>\n",
      "    <Channel column=\"flux_loop_2\" displayFormat=\",.3\" legend=\"flux_loop_2\" strokeColor=\"#ff7f0e\"/>\n",
      "    <Channel column=\"flux_loop_3\" displayFormat=\",.3\" legend=\"flux_loop_3\" strokeColor=\"#ff7f0e\"/>\n",
      "    <Channel column=\"flux_loop_8\" displayFormat=\",.3\" legend=\"flux_loop_8\" strokeColor=\"#ff7f0e\"/>\n",
      "    <Channel column=\"flux_loop_10\" displayFormat=\",.3\" legend=\"flux_loop_10\" strokeColor=\"#ff7f0e\"/>\n",
      "  </TimeSeries>\n",
      "</View>\n",
      "\n"
     ]
    }
   ],
   "source": [
    "name_table_columns_demo = {\n",
    "        \"ammeter\": (\"ammeter\", [\"CS1\", \"CS2\", \"PFP1\"]),\n",
    "        \"flux_loop\": (\"flux_loop\", [1, 2, 3, 8, 10])}\n",
    "label_table = [(\"label1\", ['effective']), (\"label2\",['stable','unstable','disruptive'])]\n",
    "# 读取数据,返回结果是csv文件的url\n",
    "data_urls = toklabel.prepare_data(project_name = 'demo_project',\n",
    "                                        shots=[240830026, 240830027, 240830028, 240830029],\n",
    "                                            name_table_columns=name_table_columns_demo,\n",
    "                                            t_min=0,\n",
    "                                            t_max=10,\n",
    "                                            resolution=1e-3)\n",
    "# 创建项目，请确保project_name和prepare_data()中的相同\n",
    "proj = toklabel.create_project(ls, project_name=\"demo_project\", \n",
    "                                description=\"demo_project\", \n",
    "                                name_table_columns=name_table_columns_demo, \n",
    "                                label_table_columns=label_table)"
   ]
  },
  {
   "cell_type": "code",
   "execution_count": 4,
   "metadata": {},
   "outputs": [],
   "source": [
    "# 可选，创建预标注\n",
    "class demo_predictor(toklabel.BasePredictor):\n",
    "    def __init__(self, label_name=\"effective\"):\n",
    "        self.label_name = label_name\n",
    "    def predict(self, task_data: pd.DataFrame):\n",
    "        time = task_data['time']\n",
    "        time_len = len(time)\n",
    "        start = np.random.randint(0,int(time_len/2))\n",
    "        end = start + 50\n",
    "        label_group = 'label1'\n",
    "        label = self.label_name\n",
    "        return [toklabel.Prediction(label_group, label, time[start], time[end])]"
   ]
  },
  {
   "cell_type": "code",
   "execution_count": null,
   "metadata": {},
   "outputs": [
    {
     "name": "stdout",
     "output_type": "stream",
     "text": [
      "本地文件将生成在: /Users/luoyuhang/Documents/Projects/toklabel/label-studio/data/sourcedata/created-by-api\n",
      "本地json文件将生成在: /Users/luoyuhang/Documents/Projects/toklabel/label-studio/data/sourcedata/created-by-api/json\n"
     ]
    },
    {
     "name": "stderr",
     "output_type": "stream",
     "text": [
      "Defaulted container \"app\" out of: app, nginx, db-migrations (init)\n",
      "Defaulted container \"app\" out of: app, nginx, db-migrations (init)\n"
     ]
    },
    {
     "name": "stdout",
     "output_type": "stream",
     "text": [
      "确保 Pod 内目录 /label-studio/data/sourcedata/created-by-api 存在\n",
      "确保 Pod 内目录 /label-studio/data/sourcedata/created-by-api/json 存在\n",
      "生成本地文件: /Users/luoyuhang/Documents/Projects/toklabel/label-studio/data/sourcedata/created-by-api/demodata_240830026.csv\n"
     ]
    },
    {
     "name": "stderr",
     "output_type": "stream",
     "text": [
      "Defaulted container \"app\" out of: app, nginx, db-migrations (init)\n"
     ]
    },
    {
     "name": "stdout",
     "output_type": "stream",
     "text": [
      "已将 /Users/luoyuhang/Documents/Projects/toklabel/label-studio/data/sourcedata/created-by-api/demodata_240830026.csv 上传到 Pod 内 /label-studio/data/sourcedata/created-by-api/demodata_240830026.csv\n",
      "\n"
     ]
    },
    {
     "name": "stderr",
     "output_type": "stream",
     "text": [
      "Defaulted container \"app\" out of: app, nginx, db-migrations (init)\n"
     ]
    },
    {
     "name": "stdout",
     "output_type": "stream",
     "text": [
      "已将 /Users/luoyuhang/Documents/Projects/toklabel/label-studio/data/sourcedata/created-by-api/json/demodata_240830026.json 上传到 Pod 内 /label-studio/data/sourcedata/created-by-api/json/demodata_240830026.json\n",
      "\n",
      "生成本地文件: /Users/luoyuhang/Documents/Projects/toklabel/label-studio/data/sourcedata/created-by-api/demodata_240830027.csv\n"
     ]
    },
    {
     "name": "stderr",
     "output_type": "stream",
     "text": [
      "Defaulted container \"app\" out of: app, nginx, db-migrations (init)\n"
     ]
    },
    {
     "name": "stdout",
     "output_type": "stream",
     "text": [
      "已将 /Users/luoyuhang/Documents/Projects/toklabel/label-studio/data/sourcedata/created-by-api/demodata_240830027.csv 上传到 Pod 内 /label-studio/data/sourcedata/created-by-api/demodata_240830027.csv\n",
      "\n"
     ]
    },
    {
     "name": "stderr",
     "output_type": "stream",
     "text": [
      "Defaulted container \"app\" out of: app, nginx, db-migrations (init)\n"
     ]
    },
    {
     "name": "stdout",
     "output_type": "stream",
     "text": [
      "已将 /Users/luoyuhang/Documents/Projects/toklabel/label-studio/data/sourcedata/created-by-api/json/demodata_240830027.json 上传到 Pod 内 /label-studio/data/sourcedata/created-by-api/json/demodata_240830027.json\n",
      "\n",
      "生成本地文件: /Users/luoyuhang/Documents/Projects/toklabel/label-studio/data/sourcedata/created-by-api/demodata_240830028.csv\n"
     ]
    },
    {
     "name": "stderr",
     "output_type": "stream",
     "text": [
      "Defaulted container \"app\" out of: app, nginx, db-migrations (init)\n"
     ]
    },
    {
     "name": "stdout",
     "output_type": "stream",
     "text": [
      "已将 /Users/luoyuhang/Documents/Projects/toklabel/label-studio/data/sourcedata/created-by-api/demodata_240830028.csv 上传到 Pod 内 /label-studio/data/sourcedata/created-by-api/demodata_240830028.csv\n",
      "\n"
     ]
    },
    {
     "name": "stderr",
     "output_type": "stream",
     "text": [
      "Defaulted container \"app\" out of: app, nginx, db-migrations (init)\n"
     ]
    },
    {
     "name": "stdout",
     "output_type": "stream",
     "text": [
      "已将 /Users/luoyuhang/Documents/Projects/toklabel/label-studio/data/sourcedata/created-by-api/json/demodata_240830028.json 上传到 Pod 内 /label-studio/data/sourcedata/created-by-api/json/demodata_240830028.json\n",
      "\n",
      "生成本地文件: /Users/luoyuhang/Documents/Projects/toklabel/label-studio/data/sourcedata/created-by-api/demodata_240830029.csv\n"
     ]
    },
    {
     "name": "stderr",
     "output_type": "stream",
     "text": [
      "Defaulted container \"app\" out of: app, nginx, db-migrations (init)\n"
     ]
    },
    {
     "name": "stdout",
     "output_type": "stream",
     "text": [
      "已将 /Users/luoyuhang/Documents/Projects/toklabel/label-studio/data/sourcedata/created-by-api/demodata_240830029.csv 上传到 Pod 内 /label-studio/data/sourcedata/created-by-api/demodata_240830029.csv\n",
      "\n"
     ]
    },
    {
     "name": "stderr",
     "output_type": "stream",
     "text": [
      "Defaulted container \"app\" out of: app, nginx, db-migrations (init)\n"
     ]
    },
    {
     "name": "stdout",
     "output_type": "stream",
     "text": [
      "已将 /Users/luoyuhang/Documents/Projects/toklabel/label-studio/data/sourcedata/created-by-api/json/demodata_240830029.json 上传到 Pod 内 /label-studio/data/sourcedata/created-by-api/json/demodata_240830029.json\n",
      "\n"
     ]
    }
   ],
   "source": [
    "# 可选，创建predictions\n",
    "toklabel.import_prediction(project_name = 'demo_project', predictor = demo_predictor(), urls = data_urls)\n",
    "# 创建并同步本地储存\n",
    "storage = toklabel.create_storage(ls, project_id = proj.id, project_name = 'demo_project')"
   ]
  },
  {
   "cell_type": "code",
   "execution_count": null,
   "metadata": {},
   "outputs": [],
   "source": [
    "# 读取数据\n",
    "# project的id可以在Label Studio的UI界面找到，打开一个项目，如http://dap0.lan:30400/projects/6/data?tab=10，...projects/6/data...中的数字就是project的id\n",
    "export_json = toklabel.export_annotation(ls, proj.id, 'test_export')\n",
    "with open('export.json','w') as f:\n",
    "    json.dump(export_json,f)\n",
    "# 简化json\n",
    "simple_json = toklabel.simple_json_convertor(export_json)\n",
    "with open('simple.json','w') as f:\n",
    "    json.dump(simple_json,f)"
   ]
  },
  {
   "cell_type": "code",
   "execution_count": null,
   "metadata": {},
   "outputs": [],
   "source": [
    "# 将项目标注存储到pgsql中，以ip_feature为例\n",
    "export_json = toklabel.export_annotation(ls, 23, json_min=True, exclude_skipped=False, only_with_annotation=True)\n",
    "# 处理json数据并存储\n",
    "label_list = toklabel.simple_json_convertor(export_json, True, label_group_name='ip_time')\n",
    "label_manager = toklabel.AnnotationManager() # 管理标注数据的类\n",
    "label_manager.create_annotation_table('ip_feature', label_name='ip_time',unique_shot=True, point_allowed=False) #如果不存在表，创建标注表\n",
    "label_manager.insert_annotations('ip_feature',label_list, on_conflict='shot') #插入数据  "
   ]
  },
  {
   "cell_type": "code",
   "execution_count": null,
   "metadata": {},
   "outputs": [
    {
     "name": "stdout",
     "output_type": "stream",
     "text": [
      "{'message': 'Data exported successfully', 'urls': ['http://dap0.lan:30422//files/test_2/240830026.csv', 'http://dap0.lan:30422//files/test_2/240830027.csv', 'http://dap0.lan:30422//files/test_2/240830028.csv', 'http://dap0.lan:30422//files/test_2/240830029.csv']}\n"
     ]
    }
   ],
   "source": [
    "# use file server to store data\n",
    "from toklabel.utils import export_data\n",
    "shots = [240830026, 240830027, 240830028, 240830029]\n",
    "result = export_data(\"test_2\", shots, name_table_columns_demo, 0.1, 1, 1e-3)\n",
    "print(result)\n",
    "# %%"
   ]
  },
  {
   "cell_type": "code",
   "execution_count": null,
   "metadata": {},
   "outputs": [],
   "source": [
    "# store to redis\n",
    "import redis\n",
    "r = redis.Redis(host='dap0.lan', port=30379, password=\"123456\", db=1)\n",
    "urls = result[\"urls\"]\n",
    "for i, shot in enumerate(shots):\n",
    "    r.set(f\"test_2/url_{i}\", json.dumps({\"csv\": urls[i]}))\n",
    "# %%"
   ]
  }
 ],
 "metadata": {
  "kernelspec": {
   "display_name": ".venv",
   "language": "python",
   "name": "python3"
  },
  "language_info": {
   "codemirror_mode": {
    "name": "ipython",
    "version": 3
   },
   "file_extension": ".py",
   "mimetype": "text/x-python",
   "name": "python",
   "nbconvert_exporter": "python",
   "pygments_lexer": "ipython3",
   "version": "3.12.9"
  }
 },
 "nbformat": 4,
 "nbformat_minor": 2
}
